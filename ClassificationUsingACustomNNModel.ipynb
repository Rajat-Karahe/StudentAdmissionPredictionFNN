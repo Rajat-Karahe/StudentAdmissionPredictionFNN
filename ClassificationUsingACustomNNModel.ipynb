{
  "nbformat": 4,
  "nbformat_minor": 0,
  "metadata": {
    "colab": {
      "name": "ClassificationUsingACustomNNModel.ipynb",
      "provenance": [],
      "collapsed_sections": [],
      "mount_file_id": "1pLPUVr_HzHPwlFF8NxOTI0q02rueM6gA",
      "authorship_tag": "ABX9TyOhQSeEhoMEsb61FMlpUxB/"
    },
    "kernelspec": {
      "name": "python3",
      "display_name": "Python 3"
    }
  },
  "cells": [
    {
      "cell_type": "code",
      "metadata": {
        "id": "QqGLFysCxFsU",
        "colab_type": "code",
        "colab": {
          "base_uri": "https://localhost:8080/",
          "height": 70
        },
        "outputId": "e789891c-5428-4bd9-d532-dabcbff76f32"
      },
      "source": [
        "import torch\n",
        "import pandas as pd\n",
        "import numpy as np\n",
        "import seaborn as sns\n",
        "import matplotlib.pyplot as plt"
      ],
      "execution_count": 1,
      "outputs": [
        {
          "output_type": "stream",
          "text": [
            "/usr/local/lib/python3.6/dist-packages/statsmodels/tools/_testing.py:19: FutureWarning: pandas.util.testing is deprecated. Use the functions in the public API at pandas.testing instead.\n",
            "  import pandas.util.testing as tm\n"
          ],
          "name": "stderr"
        }
      ]
    },
    {
      "cell_type": "code",
      "metadata": {
        "id": "lmt4CPXexf_-",
        "colab_type": "code",
        "colab": {}
      },
      "source": [
        "data = pd.read_csv('/content/drive/My Drive/Colab Notebooks/Udacity_DL/Dataset/graduate_admission/Admission_Predict.csv')"
      ],
      "execution_count": 0,
      "outputs": []
    },
    {
      "cell_type": "code",
      "metadata": {
        "id": "ahe8asn9x6dC",
        "colab_type": "code",
        "outputId": "0954e006-fd06-4a3b-9b5e-b528c9a360f8",
        "colab": {
          "base_uri": "https://localhost:8080/",
          "height": 195
        }
      },
      "source": [
        "data.head()"
      ],
      "execution_count": 3,
      "outputs": [
        {
          "output_type": "execute_result",
          "data": {
            "text/html": [
              "<div>\n",
              "<style scoped>\n",
              "    .dataframe tbody tr th:only-of-type {\n",
              "        vertical-align: middle;\n",
              "    }\n",
              "\n",
              "    .dataframe tbody tr th {\n",
              "        vertical-align: top;\n",
              "    }\n",
              "\n",
              "    .dataframe thead th {\n",
              "        text-align: right;\n",
              "    }\n",
              "</style>\n",
              "<table border=\"1\" class=\"dataframe\">\n",
              "  <thead>\n",
              "    <tr style=\"text-align: right;\">\n",
              "      <th></th>\n",
              "      <th>Serial No.</th>\n",
              "      <th>GRE Score</th>\n",
              "      <th>TOEFL Score</th>\n",
              "      <th>University Rating</th>\n",
              "      <th>SOP</th>\n",
              "      <th>LOR</th>\n",
              "      <th>CGPA</th>\n",
              "      <th>Research</th>\n",
              "      <th>Chance of Admit</th>\n",
              "    </tr>\n",
              "  </thead>\n",
              "  <tbody>\n",
              "    <tr>\n",
              "      <th>0</th>\n",
              "      <td>1</td>\n",
              "      <td>337</td>\n",
              "      <td>118</td>\n",
              "      <td>4</td>\n",
              "      <td>4.5</td>\n",
              "      <td>4.5</td>\n",
              "      <td>9.65</td>\n",
              "      <td>1</td>\n",
              "      <td>0.92</td>\n",
              "    </tr>\n",
              "    <tr>\n",
              "      <th>1</th>\n",
              "      <td>2</td>\n",
              "      <td>324</td>\n",
              "      <td>107</td>\n",
              "      <td>4</td>\n",
              "      <td>4.0</td>\n",
              "      <td>4.5</td>\n",
              "      <td>8.87</td>\n",
              "      <td>1</td>\n",
              "      <td>0.76</td>\n",
              "    </tr>\n",
              "    <tr>\n",
              "      <th>2</th>\n",
              "      <td>3</td>\n",
              "      <td>316</td>\n",
              "      <td>104</td>\n",
              "      <td>3</td>\n",
              "      <td>3.0</td>\n",
              "      <td>3.5</td>\n",
              "      <td>8.00</td>\n",
              "      <td>1</td>\n",
              "      <td>0.72</td>\n",
              "    </tr>\n",
              "    <tr>\n",
              "      <th>3</th>\n",
              "      <td>4</td>\n",
              "      <td>322</td>\n",
              "      <td>110</td>\n",
              "      <td>3</td>\n",
              "      <td>3.5</td>\n",
              "      <td>2.5</td>\n",
              "      <td>8.67</td>\n",
              "      <td>1</td>\n",
              "      <td>0.80</td>\n",
              "    </tr>\n",
              "    <tr>\n",
              "      <th>4</th>\n",
              "      <td>5</td>\n",
              "      <td>314</td>\n",
              "      <td>103</td>\n",
              "      <td>2</td>\n",
              "      <td>2.0</td>\n",
              "      <td>3.0</td>\n",
              "      <td>8.21</td>\n",
              "      <td>0</td>\n",
              "      <td>0.65</td>\n",
              "    </tr>\n",
              "  </tbody>\n",
              "</table>\n",
              "</div>"
            ],
            "text/plain": [
              "   Serial No.  GRE Score  TOEFL Score  ...  CGPA  Research  Chance of Admit \n",
              "0           1        337          118  ...  9.65         1              0.92\n",
              "1           2        324          107  ...  8.87         1              0.76\n",
              "2           3        316          104  ...  8.00         1              0.72\n",
              "3           4        322          110  ...  8.67         1              0.80\n",
              "4           5        314          103  ...  8.21         0              0.65\n",
              "\n",
              "[5 rows x 9 columns]"
            ]
          },
          "metadata": {
            "tags": []
          },
          "execution_count": 3
        }
      ]
    },
    {
      "cell_type": "code",
      "metadata": {
        "id": "70VOvha4x7dP",
        "colab_type": "code",
        "outputId": "fbd86bf3-6b54-4d3a-ddb3-63d95a4c6c0d",
        "colab": {
          "base_uri": "https://localhost:8080/",
          "height": 34
        }
      },
      "source": [
        "data.shape"
      ],
      "execution_count": 4,
      "outputs": [
        {
          "output_type": "execute_result",
          "data": {
            "text/plain": [
              "(400, 9)"
            ]
          },
          "metadata": {
            "tags": []
          },
          "execution_count": 4
        }
      ]
    },
    {
      "cell_type": "code",
      "metadata": {
        "id": "9kj93YgbyG1V",
        "colab_type": "code",
        "outputId": "615d10d1-da6f-4912-dbf0-462f5cf24af6",
        "colab": {
          "base_uri": "https://localhost:8080/",
          "height": 284
        }
      },
      "source": [
        "data.describe()"
      ],
      "execution_count": 5,
      "outputs": [
        {
          "output_type": "execute_result",
          "data": {
            "text/html": [
              "<div>\n",
              "<style scoped>\n",
              "    .dataframe tbody tr th:only-of-type {\n",
              "        vertical-align: middle;\n",
              "    }\n",
              "\n",
              "    .dataframe tbody tr th {\n",
              "        vertical-align: top;\n",
              "    }\n",
              "\n",
              "    .dataframe thead th {\n",
              "        text-align: right;\n",
              "    }\n",
              "</style>\n",
              "<table border=\"1\" class=\"dataframe\">\n",
              "  <thead>\n",
              "    <tr style=\"text-align: right;\">\n",
              "      <th></th>\n",
              "      <th>Serial No.</th>\n",
              "      <th>GRE Score</th>\n",
              "      <th>TOEFL Score</th>\n",
              "      <th>University Rating</th>\n",
              "      <th>SOP</th>\n",
              "      <th>LOR</th>\n",
              "      <th>CGPA</th>\n",
              "      <th>Research</th>\n",
              "      <th>Chance of Admit</th>\n",
              "    </tr>\n",
              "  </thead>\n",
              "  <tbody>\n",
              "    <tr>\n",
              "      <th>count</th>\n",
              "      <td>400.000000</td>\n",
              "      <td>400.000000</td>\n",
              "      <td>400.000000</td>\n",
              "      <td>400.000000</td>\n",
              "      <td>400.000000</td>\n",
              "      <td>400.000000</td>\n",
              "      <td>400.000000</td>\n",
              "      <td>400.000000</td>\n",
              "      <td>400.000000</td>\n",
              "    </tr>\n",
              "    <tr>\n",
              "      <th>mean</th>\n",
              "      <td>200.500000</td>\n",
              "      <td>316.807500</td>\n",
              "      <td>107.410000</td>\n",
              "      <td>3.087500</td>\n",
              "      <td>3.400000</td>\n",
              "      <td>3.452500</td>\n",
              "      <td>8.598925</td>\n",
              "      <td>0.547500</td>\n",
              "      <td>0.724350</td>\n",
              "    </tr>\n",
              "    <tr>\n",
              "      <th>std</th>\n",
              "      <td>115.614301</td>\n",
              "      <td>11.473646</td>\n",
              "      <td>6.069514</td>\n",
              "      <td>1.143728</td>\n",
              "      <td>1.006869</td>\n",
              "      <td>0.898478</td>\n",
              "      <td>0.596317</td>\n",
              "      <td>0.498362</td>\n",
              "      <td>0.142609</td>\n",
              "    </tr>\n",
              "    <tr>\n",
              "      <th>min</th>\n",
              "      <td>1.000000</td>\n",
              "      <td>290.000000</td>\n",
              "      <td>92.000000</td>\n",
              "      <td>1.000000</td>\n",
              "      <td>1.000000</td>\n",
              "      <td>1.000000</td>\n",
              "      <td>6.800000</td>\n",
              "      <td>0.000000</td>\n",
              "      <td>0.340000</td>\n",
              "    </tr>\n",
              "    <tr>\n",
              "      <th>25%</th>\n",
              "      <td>100.750000</td>\n",
              "      <td>308.000000</td>\n",
              "      <td>103.000000</td>\n",
              "      <td>2.000000</td>\n",
              "      <td>2.500000</td>\n",
              "      <td>3.000000</td>\n",
              "      <td>8.170000</td>\n",
              "      <td>0.000000</td>\n",
              "      <td>0.640000</td>\n",
              "    </tr>\n",
              "    <tr>\n",
              "      <th>50%</th>\n",
              "      <td>200.500000</td>\n",
              "      <td>317.000000</td>\n",
              "      <td>107.000000</td>\n",
              "      <td>3.000000</td>\n",
              "      <td>3.500000</td>\n",
              "      <td>3.500000</td>\n",
              "      <td>8.610000</td>\n",
              "      <td>1.000000</td>\n",
              "      <td>0.730000</td>\n",
              "    </tr>\n",
              "    <tr>\n",
              "      <th>75%</th>\n",
              "      <td>300.250000</td>\n",
              "      <td>325.000000</td>\n",
              "      <td>112.000000</td>\n",
              "      <td>4.000000</td>\n",
              "      <td>4.000000</td>\n",
              "      <td>4.000000</td>\n",
              "      <td>9.062500</td>\n",
              "      <td>1.000000</td>\n",
              "      <td>0.830000</td>\n",
              "    </tr>\n",
              "    <tr>\n",
              "      <th>max</th>\n",
              "      <td>400.000000</td>\n",
              "      <td>340.000000</td>\n",
              "      <td>120.000000</td>\n",
              "      <td>5.000000</td>\n",
              "      <td>5.000000</td>\n",
              "      <td>5.000000</td>\n",
              "      <td>9.920000</td>\n",
              "      <td>1.000000</td>\n",
              "      <td>0.970000</td>\n",
              "    </tr>\n",
              "  </tbody>\n",
              "</table>\n",
              "</div>"
            ],
            "text/plain": [
              "       Serial No.   GRE Score  ...    Research  Chance of Admit \n",
              "count  400.000000  400.000000  ...  400.000000        400.000000\n",
              "mean   200.500000  316.807500  ...    0.547500          0.724350\n",
              "std    115.614301   11.473646  ...    0.498362          0.142609\n",
              "min      1.000000  290.000000  ...    0.000000          0.340000\n",
              "25%    100.750000  308.000000  ...    0.000000          0.640000\n",
              "50%    200.500000  317.000000  ...    1.000000          0.730000\n",
              "75%    300.250000  325.000000  ...    1.000000          0.830000\n",
              "max    400.000000  340.000000  ...    1.000000          0.970000\n",
              "\n",
              "[8 rows x 9 columns]"
            ]
          },
          "metadata": {
            "tags": []
          },
          "execution_count": 5
        }
      ]
    },
    {
      "cell_type": "code",
      "metadata": {
        "id": "2Kid_K7yySbK",
        "colab_type": "code",
        "colab": {}
      },
      "source": [
        "data = data.rename(index=str, columns={'Chance of Admit ' : 'Admit_Probability'})"
      ],
      "execution_count": 0,
      "outputs": []
    },
    {
      "cell_type": "code",
      "metadata": {
        "id": "7MSZ_5Wzykx8",
        "colab_type": "code",
        "outputId": "e5af0c11-20d5-4896-bc2b-88a58df96848",
        "colab": {
          "base_uri": "https://localhost:8080/",
          "height": 195
        }
      },
      "source": [
        "data.head()"
      ],
      "execution_count": 7,
      "outputs": [
        {
          "output_type": "execute_result",
          "data": {
            "text/html": [
              "<div>\n",
              "<style scoped>\n",
              "    .dataframe tbody tr th:only-of-type {\n",
              "        vertical-align: middle;\n",
              "    }\n",
              "\n",
              "    .dataframe tbody tr th {\n",
              "        vertical-align: top;\n",
              "    }\n",
              "\n",
              "    .dataframe thead th {\n",
              "        text-align: right;\n",
              "    }\n",
              "</style>\n",
              "<table border=\"1\" class=\"dataframe\">\n",
              "  <thead>\n",
              "    <tr style=\"text-align: right;\">\n",
              "      <th></th>\n",
              "      <th>Serial No.</th>\n",
              "      <th>GRE Score</th>\n",
              "      <th>TOEFL Score</th>\n",
              "      <th>University Rating</th>\n",
              "      <th>SOP</th>\n",
              "      <th>LOR</th>\n",
              "      <th>CGPA</th>\n",
              "      <th>Research</th>\n",
              "      <th>Admit_Probability</th>\n",
              "    </tr>\n",
              "  </thead>\n",
              "  <tbody>\n",
              "    <tr>\n",
              "      <th>0</th>\n",
              "      <td>1</td>\n",
              "      <td>337</td>\n",
              "      <td>118</td>\n",
              "      <td>4</td>\n",
              "      <td>4.5</td>\n",
              "      <td>4.5</td>\n",
              "      <td>9.65</td>\n",
              "      <td>1</td>\n",
              "      <td>0.92</td>\n",
              "    </tr>\n",
              "    <tr>\n",
              "      <th>1</th>\n",
              "      <td>2</td>\n",
              "      <td>324</td>\n",
              "      <td>107</td>\n",
              "      <td>4</td>\n",
              "      <td>4.0</td>\n",
              "      <td>4.5</td>\n",
              "      <td>8.87</td>\n",
              "      <td>1</td>\n",
              "      <td>0.76</td>\n",
              "    </tr>\n",
              "    <tr>\n",
              "      <th>2</th>\n",
              "      <td>3</td>\n",
              "      <td>316</td>\n",
              "      <td>104</td>\n",
              "      <td>3</td>\n",
              "      <td>3.0</td>\n",
              "      <td>3.5</td>\n",
              "      <td>8.00</td>\n",
              "      <td>1</td>\n",
              "      <td>0.72</td>\n",
              "    </tr>\n",
              "    <tr>\n",
              "      <th>3</th>\n",
              "      <td>4</td>\n",
              "      <td>322</td>\n",
              "      <td>110</td>\n",
              "      <td>3</td>\n",
              "      <td>3.5</td>\n",
              "      <td>2.5</td>\n",
              "      <td>8.67</td>\n",
              "      <td>1</td>\n",
              "      <td>0.80</td>\n",
              "    </tr>\n",
              "    <tr>\n",
              "      <th>4</th>\n",
              "      <td>5</td>\n",
              "      <td>314</td>\n",
              "      <td>103</td>\n",
              "      <td>2</td>\n",
              "      <td>2.0</td>\n",
              "      <td>3.0</td>\n",
              "      <td>8.21</td>\n",
              "      <td>0</td>\n",
              "      <td>0.65</td>\n",
              "    </tr>\n",
              "  </tbody>\n",
              "</table>\n",
              "</div>"
            ],
            "text/plain": [
              "   Serial No.  GRE Score  TOEFL Score  ...  CGPA  Research  Admit_Probability\n",
              "0           1        337          118  ...  9.65         1               0.92\n",
              "1           2        324          107  ...  8.87         1               0.76\n",
              "2           3        316          104  ...  8.00         1               0.72\n",
              "3           4        322          110  ...  8.67         1               0.80\n",
              "4           5        314          103  ...  8.21         0               0.65\n",
              "\n",
              "[5 rows x 9 columns]"
            ]
          },
          "metadata": {
            "tags": []
          },
          "execution_count": 7
        }
      ]
    },
    {
      "cell_type": "code",
      "metadata": {
        "id": "msP4hNtozEow",
        "colab_type": "code",
        "colab": {}
      },
      "source": [
        "data = data.drop(columns = ['Serial No.'])"
      ],
      "execution_count": 0,
      "outputs": []
    },
    {
      "cell_type": "code",
      "metadata": {
        "id": "tn82NxuIz2VU",
        "colab_type": "code",
        "outputId": "56afd621-88ab-4d71-896e-63d4d2b86920",
        "colab": {
          "base_uri": "https://localhost:8080/",
          "height": 195
        }
      },
      "source": [
        "data.head()"
      ],
      "execution_count": 9,
      "outputs": [
        {
          "output_type": "execute_result",
          "data": {
            "text/html": [
              "<div>\n",
              "<style scoped>\n",
              "    .dataframe tbody tr th:only-of-type {\n",
              "        vertical-align: middle;\n",
              "    }\n",
              "\n",
              "    .dataframe tbody tr th {\n",
              "        vertical-align: top;\n",
              "    }\n",
              "\n",
              "    .dataframe thead th {\n",
              "        text-align: right;\n",
              "    }\n",
              "</style>\n",
              "<table border=\"1\" class=\"dataframe\">\n",
              "  <thead>\n",
              "    <tr style=\"text-align: right;\">\n",
              "      <th></th>\n",
              "      <th>GRE Score</th>\n",
              "      <th>TOEFL Score</th>\n",
              "      <th>University Rating</th>\n",
              "      <th>SOP</th>\n",
              "      <th>LOR</th>\n",
              "      <th>CGPA</th>\n",
              "      <th>Research</th>\n",
              "      <th>Admit_Probability</th>\n",
              "    </tr>\n",
              "  </thead>\n",
              "  <tbody>\n",
              "    <tr>\n",
              "      <th>0</th>\n",
              "      <td>337</td>\n",
              "      <td>118</td>\n",
              "      <td>4</td>\n",
              "      <td>4.5</td>\n",
              "      <td>4.5</td>\n",
              "      <td>9.65</td>\n",
              "      <td>1</td>\n",
              "      <td>0.92</td>\n",
              "    </tr>\n",
              "    <tr>\n",
              "      <th>1</th>\n",
              "      <td>324</td>\n",
              "      <td>107</td>\n",
              "      <td>4</td>\n",
              "      <td>4.0</td>\n",
              "      <td>4.5</td>\n",
              "      <td>8.87</td>\n",
              "      <td>1</td>\n",
              "      <td>0.76</td>\n",
              "    </tr>\n",
              "    <tr>\n",
              "      <th>2</th>\n",
              "      <td>316</td>\n",
              "      <td>104</td>\n",
              "      <td>3</td>\n",
              "      <td>3.0</td>\n",
              "      <td>3.5</td>\n",
              "      <td>8.00</td>\n",
              "      <td>1</td>\n",
              "      <td>0.72</td>\n",
              "    </tr>\n",
              "    <tr>\n",
              "      <th>3</th>\n",
              "      <td>322</td>\n",
              "      <td>110</td>\n",
              "      <td>3</td>\n",
              "      <td>3.5</td>\n",
              "      <td>2.5</td>\n",
              "      <td>8.67</td>\n",
              "      <td>1</td>\n",
              "      <td>0.80</td>\n",
              "    </tr>\n",
              "    <tr>\n",
              "      <th>4</th>\n",
              "      <td>314</td>\n",
              "      <td>103</td>\n",
              "      <td>2</td>\n",
              "      <td>2.0</td>\n",
              "      <td>3.0</td>\n",
              "      <td>8.21</td>\n",
              "      <td>0</td>\n",
              "      <td>0.65</td>\n",
              "    </tr>\n",
              "  </tbody>\n",
              "</table>\n",
              "</div>"
            ],
            "text/plain": [
              "   GRE Score  TOEFL Score  University Rating  ...  CGPA  Research  Admit_Probability\n",
              "0        337          118                  4  ...  9.65         1               0.92\n",
              "1        324          107                  4  ...  8.87         1               0.76\n",
              "2        316          104                  3  ...  8.00         1               0.72\n",
              "3        322          110                  3  ...  8.67         1               0.80\n",
              "4        314          103                  2  ...  8.21         0               0.65\n",
              "\n",
              "[5 rows x 8 columns]"
            ]
          },
          "metadata": {
            "tags": []
          },
          "execution_count": 9
        }
      ]
    },
    {
      "cell_type": "code",
      "metadata": {
        "id": "KdCKrDGr0HzN",
        "colab_type": "code",
        "outputId": "8e495de5-3f36-4878-d84a-8178a280a9da",
        "colab": {
          "base_uri": "https://localhost:8080/",
          "height": 531
        }
      },
      "source": [
        "plt.figure(figsize=(8, 8))\n",
        "\n",
        "fig = sns.scatterplot(x = 'Admit_Probability', y = 'CGPA', data = data, hue = 'Research')\n",
        "\n",
        "plt.title('CGPA vs Admit_Probability')\n",
        "plt.xlabel('Admit_Probability')\n",
        "plt.ylabel('CGPA')"
      ],
      "execution_count": 10,
      "outputs": [
        {
          "output_type": "execute_result",
          "data": {
            "text/plain": [
              "Text(0, 0.5, 'CGPA')"
            ]
          },
          "metadata": {
            "tags": []
          },
          "execution_count": 10
        },
        {
          "output_type": "display_data",
          "data": {
            "image/png": "[encoded data removed]",
            "text/plain": [
              "<Figure size 576x576 with 1 Axes>"
            ]
          },
          "metadata": {
            "tags": [],
            "needs_background": "light"
          }
        }
      ]
    },
    {
      "cell_type": "code",
      "metadata": {
        "id": "V--N3JXO08vF",
        "colab_type": "code",
        "outputId": "908b49bb-28dd-4f55-8a4a-2fde8de7b805",
        "colab": {
          "base_uri": "https://localhost:8080/",
          "height": 284
        }
      },
      "source": [
        "data.corr()"
      ],
      "execution_count": 11,
      "outputs": [
        {
          "output_type": "execute_result",
          "data": {
            "text/html": [
              "<div>\n",
              "<style scoped>\n",
              "    .dataframe tbody tr th:only-of-type {\n",
              "        vertical-align: middle;\n",
              "    }\n",
              "\n",
              "    .dataframe tbody tr th {\n",
              "        vertical-align: top;\n",
              "    }\n",
              "\n",
              "    .dataframe thead th {\n",
              "        text-align: right;\n",
              "    }\n",
              "</style>\n",
              "<table border=\"1\" class=\"dataframe\">\n",
              "  <thead>\n",
              "    <tr style=\"text-align: right;\">\n",
              "      <th></th>\n",
              "      <th>GRE Score</th>\n",
              "      <th>TOEFL Score</th>\n",
              "      <th>University Rating</th>\n",
              "      <th>SOP</th>\n",
              "      <th>LOR</th>\n",
              "      <th>CGPA</th>\n",
              "      <th>Research</th>\n",
              "      <th>Admit_Probability</th>\n",
              "    </tr>\n",
              "  </thead>\n",
              "  <tbody>\n",
              "    <tr>\n",
              "      <th>GRE Score</th>\n",
              "      <td>1.000000</td>\n",
              "      <td>0.835977</td>\n",
              "      <td>0.668976</td>\n",
              "      <td>0.612831</td>\n",
              "      <td>0.557555</td>\n",
              "      <td>0.833060</td>\n",
              "      <td>0.580391</td>\n",
              "      <td>0.802610</td>\n",
              "    </tr>\n",
              "    <tr>\n",
              "      <th>TOEFL Score</th>\n",
              "      <td>0.835977</td>\n",
              "      <td>1.000000</td>\n",
              "      <td>0.695590</td>\n",
              "      <td>0.657981</td>\n",
              "      <td>0.567721</td>\n",
              "      <td>0.828417</td>\n",
              "      <td>0.489858</td>\n",
              "      <td>0.791594</td>\n",
              "    </tr>\n",
              "    <tr>\n",
              "      <th>University Rating</th>\n",
              "      <td>0.668976</td>\n",
              "      <td>0.695590</td>\n",
              "      <td>1.000000</td>\n",
              "      <td>0.734523</td>\n",
              "      <td>0.660123</td>\n",
              "      <td>0.746479</td>\n",
              "      <td>0.447783</td>\n",
              "      <td>0.711250</td>\n",
              "    </tr>\n",
              "    <tr>\n",
              "      <th>SOP</th>\n",
              "      <td>0.612831</td>\n",
              "      <td>0.657981</td>\n",
              "      <td>0.734523</td>\n",
              "      <td>1.000000</td>\n",
              "      <td>0.729593</td>\n",
              "      <td>0.718144</td>\n",
              "      <td>0.444029</td>\n",
              "      <td>0.675732</td>\n",
              "    </tr>\n",
              "    <tr>\n",
              "      <th>LOR</th>\n",
              "      <td>0.557555</td>\n",
              "      <td>0.567721</td>\n",
              "      <td>0.660123</td>\n",
              "      <td>0.729593</td>\n",
              "      <td>1.000000</td>\n",
              "      <td>0.670211</td>\n",
              "      <td>0.396859</td>\n",
              "      <td>0.669889</td>\n",
              "    </tr>\n",
              "    <tr>\n",
              "      <th>CGPA</th>\n",
              "      <td>0.833060</td>\n",
              "      <td>0.828417</td>\n",
              "      <td>0.746479</td>\n",
              "      <td>0.718144</td>\n",
              "      <td>0.670211</td>\n",
              "      <td>1.000000</td>\n",
              "      <td>0.521654</td>\n",
              "      <td>0.873289</td>\n",
              "    </tr>\n",
              "    <tr>\n",
              "      <th>Research</th>\n",
              "      <td>0.580391</td>\n",
              "      <td>0.489858</td>\n",
              "      <td>0.447783</td>\n",
              "      <td>0.444029</td>\n",
              "      <td>0.396859</td>\n",
              "      <td>0.521654</td>\n",
              "      <td>1.000000</td>\n",
              "      <td>0.553202</td>\n",
              "    </tr>\n",
              "    <tr>\n",
              "      <th>Admit_Probability</th>\n",
              "      <td>0.802610</td>\n",
              "      <td>0.791594</td>\n",
              "      <td>0.711250</td>\n",
              "      <td>0.675732</td>\n",
              "      <td>0.669889</td>\n",
              "      <td>0.873289</td>\n",
              "      <td>0.553202</td>\n",
              "      <td>1.000000</td>\n",
              "    </tr>\n",
              "  </tbody>\n",
              "</table>\n",
              "</div>"
            ],
            "text/plain": [
              "                   GRE Score  TOEFL Score  ...  Research  Admit_Probability\n",
              "GRE Score           1.000000     0.835977  ...  0.580391           0.802610\n",
              "TOEFL Score         0.835977     1.000000  ...  0.489858           0.791594\n",
              "University Rating   0.668976     0.695590  ...  0.447783           0.711250\n",
              "SOP                 0.612831     0.657981  ...  0.444029           0.675732\n",
              "LOR                 0.557555     0.567721  ...  0.396859           0.669889\n",
              "CGPA                0.833060     0.828417  ...  0.521654           0.873289\n",
              "Research            0.580391     0.489858  ...  1.000000           0.553202\n",
              "Admit_Probability   0.802610     0.791594  ...  0.553202           1.000000\n",
              "\n",
              "[8 rows x 8 columns]"
            ]
          },
          "metadata": {
            "tags": []
          },
          "execution_count": 11
        }
      ]
    },
    {
      "cell_type": "code",
      "metadata": {
        "id": "99TERrLy1FnJ",
        "colab_type": "code",
        "outputId": "945dd992-55fb-4ead-fd7b-c542c4b296c6",
        "colab": {
          "base_uri": "https://localhost:8080/",
          "height": 673
        }
      },
      "source": [
        "plt.figure(figsize=(10, 10))\n",
        "\n",
        "sns.heatmap(data.corr(), annot=True, linewidths=0.05, fmt ='.2f')\n",
        "plt.show()"
      ],
      "execution_count": 12,
      "outputs": [
        {
          "output_type": "display_data",
          "data": {
            "image/png": "[encoded data removed]",
            "text/plain": [
              "<Figure size 720x720 with 2 Axes>"
            ]
          },
          "metadata": {
            "tags": [],
            "needs_background": "light"
          }
        }
      ]
    },
    {
      "cell_type": "code",
      "metadata": {
        "id": "Sr2oz6231gN-",
        "colab_type": "code",
        "colab": {}
      },
      "source": [
        "from sklearn import preprocessing"
      ],
      "execution_count": 0,
      "outputs": []
    },
    {
      "cell_type": "code",
      "metadata": {
        "id": "mQdiz6Qp2NYN",
        "colab_type": "code",
        "outputId": "b6c697d7-c05f-48c1-82f1-255176926b5f",
        "colab": {
          "base_uri": "https://localhost:8080/",
          "height": 67
        }
      },
      "source": [
        "data.columns"
      ],
      "execution_count": 14,
      "outputs": [
        {
          "output_type": "execute_result",
          "data": {
            "text/plain": [
              "Index(['GRE Score', 'TOEFL Score', 'University Rating', 'SOP', 'LOR ', 'CGPA',\n",
              "       'Research', 'Admit_Probability'],\n",
              "      dtype='object')"
            ]
          },
          "metadata": {
            "tags": []
          },
          "execution_count": 14
        }
      ]
    },
    {
      "cell_type": "code",
      "metadata": {
        "id": "Xn4bHMpp2Tfp",
        "colab_type": "code",
        "colab": {}
      },
      "source": [
        "data[['GRE Score', 'TOEFL Score', 'SOP', 'LOR ', 'CGPA']] = preprocessing.scale(data[['GRE Score', 'TOEFL Score', 'SOP', 'LOR ', 'CGPA']])"
      ],
      "execution_count": 0,
      "outputs": []
    },
    {
      "cell_type": "code",
      "metadata": {
        "id": "6KQ5sDiz6E7V",
        "colab_type": "code",
        "outputId": "cdc60e1e-742b-401a-f299-d26ba81643a6",
        "colab": {
          "base_uri": "https://localhost:8080/",
          "height": 195
        }
      },
      "source": [
        "features = data[['GRE Score', 'TOEFL Score', 'SOP', 'LOR ', 'CGPA']]\n",
        "features.head()"
      ],
      "execution_count": 16,
      "outputs": [
        {
          "output_type": "execute_result",
          "data": {
            "text/html": [
              "<div>\n",
              "<style scoped>\n",
              "    .dataframe tbody tr th:only-of-type {\n",
              "        vertical-align: middle;\n",
              "    }\n",
              "\n",
              "    .dataframe tbody tr th {\n",
              "        vertical-align: top;\n",
              "    }\n",
              "\n",
              "    .dataframe thead th {\n",
              "        text-align: right;\n",
              "    }\n",
              "</style>\n",
              "<table border=\"1\" class=\"dataframe\">\n",
              "  <thead>\n",
              "    <tr style=\"text-align: right;\">\n",
              "      <th></th>\n",
              "      <th>GRE Score</th>\n",
              "      <th>TOEFL Score</th>\n",
              "      <th>SOP</th>\n",
              "      <th>LOR</th>\n",
              "      <th>CGPA</th>\n",
              "    </tr>\n",
              "  </thead>\n",
              "  <tbody>\n",
              "    <tr>\n",
              "      <th>0</th>\n",
              "      <td>1.762107</td>\n",
              "      <td>1.746971</td>\n",
              "      <td>1.093864</td>\n",
              "      <td>1.167321</td>\n",
              "      <td>1.764818</td>\n",
              "    </tr>\n",
              "    <tr>\n",
              "      <th>1</th>\n",
              "      <td>0.627656</td>\n",
              "      <td>-0.067635</td>\n",
              "      <td>0.596653</td>\n",
              "      <td>1.167321</td>\n",
              "      <td>0.455151</td>\n",
              "    </tr>\n",
              "    <tr>\n",
              "      <th>2</th>\n",
              "      <td>-0.070467</td>\n",
              "      <td>-0.562528</td>\n",
              "      <td>-0.397769</td>\n",
              "      <td>0.052933</td>\n",
              "      <td>-1.005631</td>\n",
              "    </tr>\n",
              "    <tr>\n",
              "      <th>3</th>\n",
              "      <td>0.453126</td>\n",
              "      <td>0.427257</td>\n",
              "      <td>0.099442</td>\n",
              "      <td>-1.061454</td>\n",
              "      <td>0.119339</td>\n",
              "    </tr>\n",
              "    <tr>\n",
              "      <th>4</th>\n",
              "      <td>-0.244998</td>\n",
              "      <td>-0.727492</td>\n",
              "      <td>-1.392191</td>\n",
              "      <td>-0.504260</td>\n",
              "      <td>-0.653029</td>\n",
              "    </tr>\n",
              "  </tbody>\n",
              "</table>\n",
              "</div>"
            ],
            "text/plain": [
              "   GRE Score  TOEFL Score       SOP      LOR       CGPA\n",
              "0   1.762107     1.746971  1.093864  1.167321  1.764818\n",
              "1   0.627656    -0.067635  0.596653  1.167321  0.455151\n",
              "2  -0.070467    -0.562528 -0.397769  0.052933 -1.005631\n",
              "3   0.453126     0.427257  0.099442 -1.061454  0.119339\n",
              "4  -0.244998    -0.727492 -1.392191 -0.504260 -0.653029"
            ]
          },
          "metadata": {
            "tags": []
          },
          "execution_count": 16
        }
      ]
    },
    {
      "cell_type": "code",
      "metadata": {
        "id": "sLDL7QYo6NIy",
        "colab_type": "code",
        "outputId": "db05cc15-36f8-4cfc-ea5f-d07a702d731f",
        "colab": {
          "base_uri": "https://localhost:8080/",
          "height": 34
        }
      },
      "source": [
        "features.shape"
      ],
      "execution_count": 17,
      "outputs": [
        {
          "output_type": "execute_result",
          "data": {
            "text/plain": [
              "(400, 5)"
            ]
          },
          "metadata": {
            "tags": []
          },
          "execution_count": 17
        }
      ]
    },
    {
      "cell_type": "code",
      "metadata": {
        "id": "wUQelhxr29x-",
        "colab_type": "code",
        "outputId": "e41702ee-e701-426a-9430-a6baee30f998",
        "colab": {
          "base_uri": "https://localhost:8080/",
          "height": 195
        }
      },
      "source": [
        "data.head()"
      ],
      "execution_count": 18,
      "outputs": [
        {
          "output_type": "execute_result",
          "data": {
            "text/html": [
              "<div>\n",
              "<style scoped>\n",
              "    .dataframe tbody tr th:only-of-type {\n",
              "        vertical-align: middle;\n",
              "    }\n",
              "\n",
              "    .dataframe tbody tr th {\n",
              "        vertical-align: top;\n",
              "    }\n",
              "\n",
              "    .dataframe thead th {\n",
              "        text-align: right;\n",
              "    }\n",
              "</style>\n",
              "<table border=\"1\" class=\"dataframe\">\n",
              "  <thead>\n",
              "    <tr style=\"text-align: right;\">\n",
              "      <th></th>\n",
              "      <th>GRE Score</th>\n",
              "      <th>TOEFL Score</th>\n",
              "      <th>University Rating</th>\n",
              "      <th>SOP</th>\n",
              "      <th>LOR</th>\n",
              "      <th>CGPA</th>\n",
              "      <th>Research</th>\n",
              "      <th>Admit_Probability</th>\n",
              "    </tr>\n",
              "  </thead>\n",
              "  <tbody>\n",
              "    <tr>\n",
              "      <th>0</th>\n",
              "      <td>1.762107</td>\n",
              "      <td>1.746971</td>\n",
              "      <td>4</td>\n",
              "      <td>1.093864</td>\n",
              "      <td>1.167321</td>\n",
              "      <td>1.764818</td>\n",
              "      <td>1</td>\n",
              "      <td>0.92</td>\n",
              "    </tr>\n",
              "    <tr>\n",
              "      <th>1</th>\n",
              "      <td>0.627656</td>\n",
              "      <td>-0.067635</td>\n",
              "      <td>4</td>\n",
              "      <td>0.596653</td>\n",
              "      <td>1.167321</td>\n",
              "      <td>0.455151</td>\n",
              "      <td>1</td>\n",
              "      <td>0.76</td>\n",
              "    </tr>\n",
              "    <tr>\n",
              "      <th>2</th>\n",
              "      <td>-0.070467</td>\n",
              "      <td>-0.562528</td>\n",
              "      <td>3</td>\n",
              "      <td>-0.397769</td>\n",
              "      <td>0.052933</td>\n",
              "      <td>-1.005631</td>\n",
              "      <td>1</td>\n",
              "      <td>0.72</td>\n",
              "    </tr>\n",
              "    <tr>\n",
              "      <th>3</th>\n",
              "      <td>0.453126</td>\n",
              "      <td>0.427257</td>\n",
              "      <td>3</td>\n",
              "      <td>0.099442</td>\n",
              "      <td>-1.061454</td>\n",
              "      <td>0.119339</td>\n",
              "      <td>1</td>\n",
              "      <td>0.80</td>\n",
              "    </tr>\n",
              "    <tr>\n",
              "      <th>4</th>\n",
              "      <td>-0.244998</td>\n",
              "      <td>-0.727492</td>\n",
              "      <td>2</td>\n",
              "      <td>-1.392191</td>\n",
              "      <td>-0.504260</td>\n",
              "      <td>-0.653029</td>\n",
              "      <td>0</td>\n",
              "      <td>0.65</td>\n",
              "    </tr>\n",
              "  </tbody>\n",
              "</table>\n",
              "</div>"
            ],
            "text/plain": [
              "   GRE Score  TOEFL Score  ...  Research  Admit_Probability\n",
              "0   1.762107     1.746971  ...         1               0.92\n",
              "1   0.627656    -0.067635  ...         1               0.76\n",
              "2  -0.070467    -0.562528  ...         1               0.72\n",
              "3   0.453126     0.427257  ...         1               0.80\n",
              "4  -0.244998    -0.727492  ...         0               0.65\n",
              "\n",
              "[5 rows x 8 columns]"
            ]
          },
          "metadata": {
            "tags": []
          },
          "execution_count": 18
        }
      ]
    },
    {
      "cell_type": "code",
      "metadata": {
        "id": "ariLqXrg3Z4y",
        "colab_type": "code",
        "colab": {}
      },
      "source": [
        "target = data[['Admit_Probability']]"
      ],
      "execution_count": 0,
      "outputs": []
    },
    {
      "cell_type": "code",
      "metadata": {
        "id": "W2P4Rlov4ybX",
        "colab_type": "code",
        "outputId": "6f3527eb-0087-4141-f18f-75879dabd7c5",
        "colab": {
          "base_uri": "https://localhost:8080/",
          "height": 195
        }
      },
      "source": [
        "target.head()"
      ],
      "execution_count": 20,
      "outputs": [
        {
          "output_type": "execute_result",
          "data": {
            "text/html": [
              "<div>\n",
              "<style scoped>\n",
              "    .dataframe tbody tr th:only-of-type {\n",
              "        vertical-align: middle;\n",
              "    }\n",
              "\n",
              "    .dataframe tbody tr th {\n",
              "        vertical-align: top;\n",
              "    }\n",
              "\n",
              "    .dataframe thead th {\n",
              "        text-align: right;\n",
              "    }\n",
              "</style>\n",
              "<table border=\"1\" class=\"dataframe\">\n",
              "  <thead>\n",
              "    <tr style=\"text-align: right;\">\n",
              "      <th></th>\n",
              "      <th>Admit_Probability</th>\n",
              "    </tr>\n",
              "  </thead>\n",
              "  <tbody>\n",
              "    <tr>\n",
              "      <th>0</th>\n",
              "      <td>0.92</td>\n",
              "    </tr>\n",
              "    <tr>\n",
              "      <th>1</th>\n",
              "      <td>0.76</td>\n",
              "    </tr>\n",
              "    <tr>\n",
              "      <th>2</th>\n",
              "      <td>0.72</td>\n",
              "    </tr>\n",
              "    <tr>\n",
              "      <th>3</th>\n",
              "      <td>0.80</td>\n",
              "    </tr>\n",
              "    <tr>\n",
              "      <th>4</th>\n",
              "      <td>0.65</td>\n",
              "    </tr>\n",
              "  </tbody>\n",
              "</table>\n",
              "</div>"
            ],
            "text/plain": [
              "   Admit_Probability\n",
              "0               0.92\n",
              "1               0.76\n",
              "2               0.72\n",
              "3               0.80\n",
              "4               0.65"
            ]
          },
          "metadata": {
            "tags": []
          },
          "execution_count": 20
        }
      ]
    },
    {
      "cell_type": "code",
      "metadata": {
        "id": "tqOYC-O84zu5",
        "colab_type": "code",
        "colab": {}
      },
      "source": [
        "y = target.copy()"
      ],
      "execution_count": 0,
      "outputs": []
    },
    {
      "cell_type": "code",
      "metadata": {
        "id": "u3ol0hDK5GOh",
        "colab_type": "code",
        "colab": {}
      },
      "source": [
        "y.replace(to_replace = target[target >= 0.80], value= int(2), inplace= True)\n",
        "y.replace(to_replace = target[target >= 0.60], value= int(1), inplace= True)\n",
        "y.replace(to_replace = target[target < 0.60], value= int(0), inplace= True)"
      ],
      "execution_count": 0,
      "outputs": []
    },
    {
      "cell_type": "code",
      "metadata": {
        "id": "pV_X2zC65jpU",
        "colab_type": "code",
        "colab": {}
      },
      "source": [
        "target = y"
      ],
      "execution_count": 0,
      "outputs": []
    },
    {
      "cell_type": "code",
      "metadata": {
        "id": "0LRCaZQO5m0v",
        "colab_type": "code",
        "outputId": "2ce6a69e-ef32-4cff-972d-f3ff0715b294",
        "colab": {
          "base_uri": "https://localhost:8080/",
          "height": 34
        }
      },
      "source": [
        "target['Admit_Probability'].unique()"
      ],
      "execution_count": 24,
      "outputs": [
        {
          "output_type": "execute_result",
          "data": {
            "text/plain": [
              "array([2., 1., 0.])"
            ]
          },
          "metadata": {
            "tags": []
          },
          "execution_count": 24
        }
      ]
    },
    {
      "cell_type": "code",
      "metadata": {
        "id": "YYlZ17HT53PI",
        "colab_type": "code",
        "colab": {}
      },
      "source": [
        "from sklearn.model_selection import train_test_split"
      ],
      "execution_count": 0,
      "outputs": []
    },
    {
      "cell_type": "code",
      "metadata": {
        "id": "SrAeEpKh6YJ5",
        "colab_type": "code",
        "colab": {}
      },
      "source": [
        "X_train, X_test, Y_train, Y_test = train_test_split(features, target, test_size=0.2)"
      ],
      "execution_count": 0,
      "outputs": []
    },
    {
      "cell_type": "code",
      "metadata": {
        "id": "JFsc3xDv6pfU",
        "colab_type": "code",
        "colab": {}
      },
      "source": [
        "Xtrain = torch.from_numpy(X_train.values).float()\n",
        "Xtest = torch.from_numpy(X_test.values).float()"
      ],
      "execution_count": 0,
      "outputs": []
    },
    {
      "cell_type": "code",
      "metadata": {
        "id": "wXaKfPy0663P",
        "colab_type": "code",
        "outputId": "d9420bc4-c868-4ea0-c247-f602aaed1f30",
        "colab": {
          "base_uri": "https://localhost:8080/",
          "height": 34
        }
      },
      "source": [
        "Xtrain.shape"
      ],
      "execution_count": 28,
      "outputs": [
        {
          "output_type": "execute_result",
          "data": {
            "text/plain": [
              "torch.Size([320, 5])"
            ]
          },
          "metadata": {
            "tags": []
          },
          "execution_count": 28
        }
      ]
    },
    {
      "cell_type": "code",
      "metadata": {
        "id": "9GPST8vW69XP",
        "colab_type": "code",
        "outputId": "c84d193b-abcf-4320-ca22-305f0a063a24",
        "colab": {
          "base_uri": "https://localhost:8080/",
          "height": 34
        }
      },
      "source": [
        "Y_train.shape, Y_test.shape"
      ],
      "execution_count": 29,
      "outputs": [
        {
          "output_type": "execute_result",
          "data": {
            "text/plain": [
              "((320, 1), (80, 1))"
            ]
          },
          "metadata": {
            "tags": []
          },
          "execution_count": 29
        }
      ]
    },
    {
      "cell_type": "code",
      "metadata": {
        "id": "AvBfVL3C7Ki3",
        "colab_type": "code",
        "colab": {}
      },
      "source": [
        "Ytrain = torch.from_numpy(Y_train.values).view(1, -1)[0].long()\n",
        "Ytest = torch.from_numpy(Y_test.values).view(1, -1)[0].long()"
      ],
      "execution_count": 0,
      "outputs": []
    },
    {
      "cell_type": "code",
      "metadata": {
        "id": "FIcx-ftc7NRf",
        "colab_type": "code",
        "outputId": "921a9500-5409-46d5-9e9d-067764b2bbd6",
        "colab": {
          "base_uri": "https://localhost:8080/",
          "height": 34
        }
      },
      "source": [
        "type(Ytrain), type(Ytest)"
      ],
      "execution_count": 31,
      "outputs": [
        {
          "output_type": "execute_result",
          "data": {
            "text/plain": [
              "(torch.Tensor, torch.Tensor)"
            ]
          },
          "metadata": {
            "tags": []
          },
          "execution_count": 31
        }
      ]
    },
    {
      "cell_type": "code",
      "metadata": {
        "id": "oyT8sqC_8FNJ",
        "colab_type": "code",
        "outputId": "535f68d8-8ca4-44f0-f866-c0394ea73471",
        "colab": {
          "base_uri": "https://localhost:8080/",
          "height": 34
        }
      },
      "source": [
        "Ytrain.shape, Ytest.shape"
      ],
      "execution_count": 32,
      "outputs": [
        {
          "output_type": "execute_result",
          "data": {
            "text/plain": [
              "(torch.Size([320]), torch.Size([80]))"
            ]
          },
          "metadata": {
            "tags": []
          },
          "execution_count": 32
        }
      ]
    },
    {
      "cell_type": "code",
      "metadata": {
        "id": "NG_JN_1-8LGO",
        "colab_type": "code",
        "colab": {}
      },
      "source": [
        "import torch.nn as nn\n",
        "import torch.nn.functional as F"
      ],
      "execution_count": 0,
      "outputs": []
    },
    {
      "cell_type": "code",
      "metadata": {
        "id": "LFkNr4jh-yVo",
        "colab_type": "code",
        "colab": {}
      },
      "source": [
        "input_size = Xtrain.shape[1]\n",
        "output_size = len(target['Admit_Probability'].unique())"
      ],
      "execution_count": 0,
      "outputs": []
    },
    {
      "cell_type": "code",
      "metadata": {
        "id": "JYQsmKlG_OB_",
        "colab_type": "code",
        "colab": {}
      },
      "source": [
        "class Net(nn.Module):\n",
        "\n",
        "  def __init__(self, hidden_size, activation = 'tanh', apply_dropout = False):\n",
        "    super(Net, self).__init__()\n",
        "\n",
        "    self.fc1 = nn.Linear(input_size, hidden_size)\n",
        "    self.fc2 = nn.Linear(hidden_size, hidden_size)\n",
        "    self.fc3 = nn.Linear(hidden_size, output_size)\n",
        "\n",
        "    self.hidden_size = hidden_size\n",
        "    self.activation = activation\n",
        "    self.dropout = None\n",
        "    if apply_dropout:\n",
        "      self.dropout = nn.Dropout(0.2)\n",
        "\n",
        "  def forward(self, x):\n",
        "    activation_fn = None\n",
        "    if (self.activation == 'tanh'):\n",
        "      activation_fn = F.torch.tanh\n",
        "    \n",
        "    if (self.activation == 'relu'):\n",
        "      activation_fn = F.relu\n",
        "\n",
        "    if (self.activation == 'sigmoid'):\n",
        "      activation_fn =  F.torch.sigmoid \n",
        "\n",
        "    x = activation_fn(self.fc1(x))\n",
        "    x = activation_fn(self.fc2(x))\n",
        "\n",
        "    if self.dropout != None:\n",
        "      x = self.dropout(x)\n",
        "\n",
        "    x = self.fc3(x)\n",
        "    return F.log_softmax(x, dim=-1)  \n"
      ],
      "execution_count": 0,
      "outputs": []
    },
    {
      "cell_type": "code",
      "metadata": {
        "id": "-iEGVG16FDCM",
        "colab_type": "code",
        "colab": {}
      },
      "source": [
        "import torch.optim as optim"
      ],
      "execution_count": 0,
      "outputs": []
    },
    {
      "cell_type": "code",
      "metadata": {
        "id": "O-XctCTaFeHf",
        "colab_type": "code",
        "colab": {}
      },
      "source": [
        "def train_and_evaluate_model(model, learn_rate=0.001, epoch = 1001):\n",
        "  epoch_data = []\n",
        "  epochs = epoch\n",
        "\n",
        "  optimizer = optim.Adam(model.parameters(), lr=learn_rate)\n",
        "\n",
        "  loss_fn = nn.NLLLoss()\n",
        "\n",
        "  test_accuracy = 0.0\n",
        "  for epoch in range(1, epochs):\n",
        "\n",
        "    optimizer.zero_grad()\n",
        "\n",
        "    model.train()\n",
        "\n",
        "    Ypred = model(Xtrain)\n",
        "\n",
        "    loss = loss_fn(Ypred, Ytrain)\n",
        "    loss.backward()\n",
        "\n",
        "    optimizer.step()\n",
        "\n",
        "    model.eval()\n",
        "\n",
        "\n",
        "    Ypred_test = model(Xtest)\n",
        "    loss_test = loss_fn(Ypred_test, Ytest)\n",
        "\n",
        "    _, pred = Ypred_test.data.max(1)\n",
        "\n",
        "    test_accuracy = pred.eq(Ytest.data).sum().item() / Y_test.values.size\n",
        "\n",
        "    epoch_data.append([epoch, loss.data.item(), loss_test.data.item(), test_accuracy])\n",
        "\n",
        "    if epoch%100 == 0:\n",
        "      print('epoch - %d (%d%%) train loss - %.2f test loss - %.2f Test accuracy - %.4f'\\\n",
        "            %(epoch, epoch/150 * 10, loss.data.item(),\n",
        "              loss_test.data.item(), test_accuracy))\n",
        "      \n",
        "  return {\n",
        "      'model' : model,\n",
        "      'epoch_data' : epoch_data,\n",
        "      'num_epochs' : epochs,\n",
        "      'optimizer' : optimizer,\n",
        "      'loss_fn' : loss_fn,\n",
        "      'test_accuracy' : test_accuracy,\n",
        "      '_, pred' : Ypred_test.data.max(1),\n",
        "      'actual_test_label' : Ytest\n",
        "  }      \n",
        "    "
      ],
      "execution_count": 0,
      "outputs": []
    },
    {
      "cell_type": "code",
      "metadata": {
        "id": "FCwCzBg_Rbqq",
        "colab_type": "code",
        "colab": {
          "base_uri": "https://localhost:8080/",
          "height": 101
        },
        "outputId": "9f39c23c-4043-4687-8455-8ccfe5d70735"
      },
      "source": [
        "net = Net(hidden_size = 50, activation = 'tanh', apply_dropout = False)\n",
        "\n",
        "net"
      ],
      "execution_count": 86,
      "outputs": [
        {
          "output_type": "execute_result",
          "data": {
            "text/plain": [
              "Net(\n",
              "  (fc1): Linear(in_features=5, out_features=50, bias=True)\n",
              "  (fc2): Linear(in_features=50, out_features=50, bias=True)\n",
              "  (fc3): Linear(in_features=50, out_features=3, bias=True)\n",
              ")"
            ]
          },
          "metadata": {
            "tags": []
          },
          "execution_count": 86
        }
      ]
    },
    {
      "cell_type": "code",
      "metadata": {
        "id": "-hl7khLdRtLV",
        "colab_type": "code",
        "colab": {
          "base_uri": "https://localhost:8080/",
          "height": 185
        },
        "outputId": "821dfe7e-d3ec-4745-b0d6-10edbd15f10b"
      },
      "source": [
        "result_50_F = train_and_evaluate_model(net)"
      ],
      "execution_count": 87,
      "outputs": [
        {
          "output_type": "stream",
          "text": [
            "epoch - 100 (6%) train loss - 0.43 test loss - 0.53 Test accuracy - 0.7625\n",
            "epoch - 200 (13%) train loss - 0.39 test loss - 0.58 Test accuracy - 0.7625\n",
            "epoch - 300 (20%) train loss - 0.37 test loss - 0.62 Test accuracy - 0.7750\n",
            "epoch - 400 (26%) train loss - 0.35 test loss - 0.64 Test accuracy - 0.7625\n",
            "epoch - 500 (33%) train loss - 0.33 test loss - 0.68 Test accuracy - 0.7375\n",
            "epoch - 600 (40%) train loss - 0.31 test loss - 0.74 Test accuracy - 0.7250\n",
            "epoch - 700 (46%) train loss - 0.28 test loss - 0.80 Test accuracy - 0.7250\n",
            "epoch - 800 (53%) train loss - 0.25 test loss - 0.87 Test accuracy - 0.7250\n",
            "epoch - 900 (60%) train loss - 0.21 test loss - 0.96 Test accuracy - 0.7250\n",
            "epoch - 1000 (66%) train loss - 0.18 test loss - 1.06 Test accuracy - 0.7250\n"
          ],
          "name": "stdout"
        }
      ]
    },
    {
      "cell_type": "code",
      "metadata": {
        "id": "PZuiaK2eR7WM",
        "colab_type": "code",
        "colab": {
          "base_uri": "https://localhost:8080/",
          "height": 118
        },
        "outputId": "815eeacb-5ff5-4564-b64b-c9f81a4c7021"
      },
      "source": [
        "net = Net(hidden_size = 50, activation = 'tanh', apply_dropout = True)\n",
        "\n",
        "net"
      ],
      "execution_count": 88,
      "outputs": [
        {
          "output_type": "execute_result",
          "data": {
            "text/plain": [
              "Net(\n",
              "  (fc1): Linear(in_features=5, out_features=50, bias=True)\n",
              "  (fc2): Linear(in_features=50, out_features=50, bias=True)\n",
              "  (fc3): Linear(in_features=50, out_features=3, bias=True)\n",
              "  (dropout): Dropout(p=0.2, inplace=False)\n",
              ")"
            ]
          },
          "metadata": {
            "tags": []
          },
          "execution_count": 88
        }
      ]
    },
    {
      "cell_type": "code",
      "metadata": {
        "id": "mFrSP0LWSB-1",
        "colab_type": "code",
        "colab": {
          "base_uri": "https://localhost:8080/",
          "height": 185
        },
        "outputId": "46d4f83c-d564-48ba-9d9b-dc107f14def0"
      },
      "source": [
        "result_50_T = train_and_evaluate_model(net)"
      ],
      "execution_count": 89,
      "outputs": [
        {
          "output_type": "stream",
          "text": [
            "epoch - 100 (6%) train loss - 0.43 test loss - 0.55 Test accuracy - 0.7625\n",
            "epoch - 200 (13%) train loss - 0.39 test loss - 0.60 Test accuracy - 0.7500\n",
            "epoch - 300 (20%) train loss - 0.38 test loss - 0.63 Test accuracy - 0.7625\n",
            "epoch - 400 (26%) train loss - 0.37 test loss - 0.65 Test accuracy - 0.7625\n",
            "epoch - 500 (33%) train loss - 0.34 test loss - 0.68 Test accuracy - 0.7250\n",
            "epoch - 600 (40%) train loss - 0.34 test loss - 0.70 Test accuracy - 0.7375\n",
            "epoch - 700 (46%) train loss - 0.32 test loss - 0.75 Test accuracy - 0.7375\n",
            "epoch - 800 (53%) train loss - 0.30 test loss - 0.79 Test accuracy - 0.7250\n",
            "epoch - 900 (60%) train loss - 0.28 test loss - 0.83 Test accuracy - 0.7250\n",
            "epoch - 1000 (66%) train loss - 0.28 test loss - 0.89 Test accuracy - 0.7375\n"
          ],
          "name": "stdout"
        }
      ]
    },
    {
      "cell_type": "code",
      "metadata": {
        "id": "VCXx7BNPSEn_",
        "colab_type": "code",
        "colab": {
          "base_uri": "https://localhost:8080/",
          "height": 101
        },
        "outputId": "e365bd8a-105b-46d1-cba9-4521f793e62d"
      },
      "source": [
        "net = Net(hidden_size = 50, activation = 'tanh', apply_dropout = False)\n",
        "\n",
        "net"
      ],
      "execution_count": 96,
      "outputs": [
        {
          "output_type": "execute_result",
          "data": {
            "text/plain": [
              "Net(\n",
              "  (fc1): Linear(in_features=5, out_features=50, bias=True)\n",
              "  (fc2): Linear(in_features=50, out_features=50, bias=True)\n",
              "  (fc3): Linear(in_features=50, out_features=3, bias=True)\n",
              ")"
            ]
          },
          "metadata": {
            "tags": []
          },
          "execution_count": 96
        }
      ]
    },
    {
      "cell_type": "code",
      "metadata": {
        "id": "lOVo-QGGTMKp",
        "colab_type": "code",
        "colab": {
          "base_uri": "https://localhost:8080/",
          "height": 34
        },
        "outputId": "55fa50ab-4be2-4f8d-ce8b-213ff6c06e0d"
      },
      "source": [
        "result_50_F = train_and_evaluate_model(net, epoch = 102)"
      ],
      "execution_count": 97,
      "outputs": [
        {
          "output_type": "stream",
          "text": [
            "epoch - 100 (6%) train loss - 0.42 test loss - 0.54 Test accuracy - 0.7625\n"
          ],
          "name": "stdout"
        }
      ]
    },
    {
      "cell_type": "code",
      "metadata": {
        "id": "hnJFC_5EX3i3",
        "colab_type": "code",
        "colab": {}
      },
      "source": [
        ""
      ],
      "execution_count": 0,
      "outputs": []
    }
  ]
}